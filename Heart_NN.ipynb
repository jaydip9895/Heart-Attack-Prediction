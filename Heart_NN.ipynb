{
 "cells": [
  {
   "cell_type": "markdown",
   "metadata": {},
   "source": [
    "**Convolutional Neural Network**"
   ]
  },
  {
   "cell_type": "code",
   "execution_count": 1,
   "metadata": {},
   "outputs": [
    {
     "name": "stderr",
     "output_type": "stream",
     "text": [
      "/Users/jaydip/anaconda3/lib/python3.7/site-packages/statsmodels/tools/_testing.py:19: FutureWarning: pandas.util.testing is deprecated. Use the functions in the public API at pandas.testing instead.\n",
      "  import pandas.util.testing as tm\n"
     ]
    }
   ],
   "source": [
    "import numpy as np\n",
    "import pandas as pd\n",
    "import matplotlib.pyplot as plt\n",
    "import seaborn as sns\n",
    "heart.csv\n",
    "df = pd.read_csv('')\n",
    "\n",
    "from sklearn.model_selection import train_test_split\n",
    "\n",
    "X = df.drop(\"target\",axis=1).values\n",
    "y = df[\"target\"].values\n",
    "\n",
    "X_train,X_test,y_train,y_test = train_test_split(X,y,test_size=0.30,random_state=101)"
   ]
  },
  {
   "cell_type": "code",
   "execution_count": 2,
   "metadata": {},
   "outputs": [
    {
     "data": {
      "text/html": [
       "<div>\n",
       "<style scoped>\n",
       "    .dataframe tbody tr th:only-of-type {\n",
       "        vertical-align: middle;\n",
       "    }\n",
       "\n",
       "    .dataframe tbody tr th {\n",
       "        vertical-align: top;\n",
       "    }\n",
       "\n",
       "    .dataframe thead th {\n",
       "        text-align: right;\n",
       "    }\n",
       "</style>\n",
       "<table border=\"1\" class=\"dataframe\">\n",
       "  <thead>\n",
       "    <tr style=\"text-align: right;\">\n",
       "      <th></th>\n",
       "      <th>age</th>\n",
       "      <th>sex</th>\n",
       "      <th>cp</th>\n",
       "      <th>trestbps</th>\n",
       "      <th>chol</th>\n",
       "      <th>fbs</th>\n",
       "      <th>restecg</th>\n",
       "      <th>thalach</th>\n",
       "      <th>exang</th>\n",
       "      <th>oldpeak</th>\n",
       "      <th>slope</th>\n",
       "      <th>ca</th>\n",
       "      <th>thal</th>\n",
       "      <th>target</th>\n",
       "    </tr>\n",
       "  </thead>\n",
       "  <tbody>\n",
       "    <tr>\n",
       "      <th>0</th>\n",
       "      <td>63</td>\n",
       "      <td>1</td>\n",
       "      <td>3</td>\n",
       "      <td>145</td>\n",
       "      <td>233</td>\n",
       "      <td>1</td>\n",
       "      <td>0</td>\n",
       "      <td>150</td>\n",
       "      <td>0</td>\n",
       "      <td>2.3</td>\n",
       "      <td>0</td>\n",
       "      <td>0</td>\n",
       "      <td>1</td>\n",
       "      <td>1</td>\n",
       "    </tr>\n",
       "    <tr>\n",
       "      <th>1</th>\n",
       "      <td>37</td>\n",
       "      <td>1</td>\n",
       "      <td>2</td>\n",
       "      <td>130</td>\n",
       "      <td>250</td>\n",
       "      <td>0</td>\n",
       "      <td>1</td>\n",
       "      <td>187</td>\n",
       "      <td>0</td>\n",
       "      <td>3.5</td>\n",
       "      <td>0</td>\n",
       "      <td>0</td>\n",
       "      <td>2</td>\n",
       "      <td>1</td>\n",
       "    </tr>\n",
       "    <tr>\n",
       "      <th>2</th>\n",
       "      <td>41</td>\n",
       "      <td>0</td>\n",
       "      <td>1</td>\n",
       "      <td>130</td>\n",
       "      <td>204</td>\n",
       "      <td>0</td>\n",
       "      <td>0</td>\n",
       "      <td>172</td>\n",
       "      <td>0</td>\n",
       "      <td>1.4</td>\n",
       "      <td>2</td>\n",
       "      <td>0</td>\n",
       "      <td>2</td>\n",
       "      <td>1</td>\n",
       "    </tr>\n",
       "    <tr>\n",
       "      <th>3</th>\n",
       "      <td>56</td>\n",
       "      <td>1</td>\n",
       "      <td>1</td>\n",
       "      <td>120</td>\n",
       "      <td>236</td>\n",
       "      <td>0</td>\n",
       "      <td>1</td>\n",
       "      <td>178</td>\n",
       "      <td>0</td>\n",
       "      <td>0.8</td>\n",
       "      <td>2</td>\n",
       "      <td>0</td>\n",
       "      <td>2</td>\n",
       "      <td>1</td>\n",
       "    </tr>\n",
       "    <tr>\n",
       "      <th>4</th>\n",
       "      <td>57</td>\n",
       "      <td>0</td>\n",
       "      <td>0</td>\n",
       "      <td>120</td>\n",
       "      <td>354</td>\n",
       "      <td>0</td>\n",
       "      <td>1</td>\n",
       "      <td>163</td>\n",
       "      <td>1</td>\n",
       "      <td>0.6</td>\n",
       "      <td>2</td>\n",
       "      <td>0</td>\n",
       "      <td>2</td>\n",
       "      <td>1</td>\n",
       "    </tr>\n",
       "    <tr>\n",
       "      <th>...</th>\n",
       "      <td>...</td>\n",
       "      <td>...</td>\n",
       "      <td>...</td>\n",
       "      <td>...</td>\n",
       "      <td>...</td>\n",
       "      <td>...</td>\n",
       "      <td>...</td>\n",
       "      <td>...</td>\n",
       "      <td>...</td>\n",
       "      <td>...</td>\n",
       "      <td>...</td>\n",
       "      <td>...</td>\n",
       "      <td>...</td>\n",
       "      <td>...</td>\n",
       "    </tr>\n",
       "    <tr>\n",
       "      <th>298</th>\n",
       "      <td>57</td>\n",
       "      <td>0</td>\n",
       "      <td>0</td>\n",
       "      <td>140</td>\n",
       "      <td>241</td>\n",
       "      <td>0</td>\n",
       "      <td>1</td>\n",
       "      <td>123</td>\n",
       "      <td>1</td>\n",
       "      <td>0.2</td>\n",
       "      <td>1</td>\n",
       "      <td>0</td>\n",
       "      <td>3</td>\n",
       "      <td>0</td>\n",
       "    </tr>\n",
       "    <tr>\n",
       "      <th>299</th>\n",
       "      <td>45</td>\n",
       "      <td>1</td>\n",
       "      <td>3</td>\n",
       "      <td>110</td>\n",
       "      <td>264</td>\n",
       "      <td>0</td>\n",
       "      <td>1</td>\n",
       "      <td>132</td>\n",
       "      <td>0</td>\n",
       "      <td>1.2</td>\n",
       "      <td>1</td>\n",
       "      <td>0</td>\n",
       "      <td>3</td>\n",
       "      <td>0</td>\n",
       "    </tr>\n",
       "    <tr>\n",
       "      <th>300</th>\n",
       "      <td>68</td>\n",
       "      <td>1</td>\n",
       "      <td>0</td>\n",
       "      <td>144</td>\n",
       "      <td>193</td>\n",
       "      <td>1</td>\n",
       "      <td>1</td>\n",
       "      <td>141</td>\n",
       "      <td>0</td>\n",
       "      <td>3.4</td>\n",
       "      <td>1</td>\n",
       "      <td>2</td>\n",
       "      <td>3</td>\n",
       "      <td>0</td>\n",
       "    </tr>\n",
       "    <tr>\n",
       "      <th>301</th>\n",
       "      <td>57</td>\n",
       "      <td>1</td>\n",
       "      <td>0</td>\n",
       "      <td>130</td>\n",
       "      <td>131</td>\n",
       "      <td>0</td>\n",
       "      <td>1</td>\n",
       "      <td>115</td>\n",
       "      <td>1</td>\n",
       "      <td>1.2</td>\n",
       "      <td>1</td>\n",
       "      <td>1</td>\n",
       "      <td>3</td>\n",
       "      <td>0</td>\n",
       "    </tr>\n",
       "    <tr>\n",
       "      <th>302</th>\n",
       "      <td>57</td>\n",
       "      <td>0</td>\n",
       "      <td>1</td>\n",
       "      <td>130</td>\n",
       "      <td>236</td>\n",
       "      <td>0</td>\n",
       "      <td>0</td>\n",
       "      <td>174</td>\n",
       "      <td>0</td>\n",
       "      <td>0.0</td>\n",
       "      <td>1</td>\n",
       "      <td>1</td>\n",
       "      <td>2</td>\n",
       "      <td>0</td>\n",
       "    </tr>\n",
       "  </tbody>\n",
       "</table>\n",
       "<p>303 rows × 14 columns</p>\n",
       "</div>"
      ],
      "text/plain": [
       "     age  sex  cp  trestbps  chol  fbs  restecg  thalach  exang  oldpeak  \\\n",
       "0     63    1   3       145   233    1        0      150      0      2.3   \n",
       "1     37    1   2       130   250    0        1      187      0      3.5   \n",
       "2     41    0   1       130   204    0        0      172      0      1.4   \n",
       "3     56    1   1       120   236    0        1      178      0      0.8   \n",
       "4     57    0   0       120   354    0        1      163      1      0.6   \n",
       "..   ...  ...  ..       ...   ...  ...      ...      ...    ...      ...   \n",
       "298   57    0   0       140   241    0        1      123      1      0.2   \n",
       "299   45    1   3       110   264    0        1      132      0      1.2   \n",
       "300   68    1   0       144   193    1        1      141      0      3.4   \n",
       "301   57    1   0       130   131    0        1      115      1      1.2   \n",
       "302   57    0   1       130   236    0        0      174      0      0.0   \n",
       "\n",
       "     slope  ca  thal  target  \n",
       "0        0   0     1       1  \n",
       "1        0   0     2       1  \n",
       "2        2   0     2       1  \n",
       "3        2   0     2       1  \n",
       "4        2   0     2       1  \n",
       "..     ...  ..   ...     ...  \n",
       "298      1   0     3       0  \n",
       "299      1   0     3       0  \n",
       "300      1   2     3       0  \n",
       "301      1   1     3       0  \n",
       "302      1   1     2       0  \n",
       "\n",
       "[303 rows x 14 columns]"
      ]
     },
     "execution_count": 2,
     "metadata": {},
     "output_type": "execute_result"
    }
   ],
   "source": [
    "df"
   ]
  },
  {
   "cell_type": "code",
   "execution_count": 3,
   "metadata": {},
   "outputs": [],
   "source": [
    "#scaling data\n",
    "from sklearn.preprocessing import MinMaxScaler\n",
    "\n",
    "scaler = MinMaxScaler()\n",
    "scaler.fit(X_train)\n",
    "X_train = scaler.transform(X_train)\n",
    "X_test = scaler.transform(X_test)\n",
    "\n",
    "X_train = X_train.reshape(212, 13, 1)\n",
    "X_test = X_test.reshape(91, 13, 1)"
   ]
  },
  {
   "cell_type": "code",
   "execution_count": 4,
   "metadata": {},
   "outputs": [
    {
     "data": {
      "text/plain": [
       "(212, 13, 1)"
      ]
     },
     "execution_count": 4,
     "metadata": {},
     "output_type": "execute_result"
    }
   ],
   "source": [
    "X_train.shape"
   ]
  },
  {
   "cell_type": "code",
   "execution_count": 5,
   "metadata": {},
   "outputs": [
    {
     "data": {
      "text/plain": [
       "(91, 13, 1)"
      ]
     },
     "execution_count": 5,
     "metadata": {},
     "output_type": "execute_result"
    }
   ],
   "source": [
    "X_test.shape"
   ]
  },
  {
   "cell_type": "code",
   "execution_count": 6,
   "metadata": {},
   "outputs": [
    {
     "data": {
      "text/plain": [
       "(212,)"
      ]
     },
     "execution_count": 6,
     "metadata": {},
     "output_type": "execute_result"
    }
   ],
   "source": [
    "y_train.shape"
   ]
  },
  {
   "cell_type": "code",
   "execution_count": 7,
   "metadata": {},
   "outputs": [
    {
     "data": {
      "text/plain": [
       "(91,)"
      ]
     },
     "execution_count": 7,
     "metadata": {},
     "output_type": "execute_result"
    }
   ],
   "source": [
    "y_test.shape"
   ]
  },
  {
   "cell_type": "code",
   "execution_count": 8,
   "metadata": {},
   "outputs": [
    {
     "name": "stderr",
     "output_type": "stream",
     "text": [
      "/Users/jaydip/anaconda3/lib/python3.7/site-packages/tensorflow/python/framework/dtypes.py:526: FutureWarning: Passing (type, 1) or '1type' as a synonym of type is deprecated; in a future version of numpy, it will be understood as (type, (1,)) / '(1,)type'.\n",
      "  _np_qint8 = np.dtype([(\"qint8\", np.int8, 1)])\n",
      "/Users/jaydip/anaconda3/lib/python3.7/site-packages/tensorflow/python/framework/dtypes.py:527: FutureWarning: Passing (type, 1) or '1type' as a synonym of type is deprecated; in a future version of numpy, it will be understood as (type, (1,)) / '(1,)type'.\n",
      "  _np_quint8 = np.dtype([(\"quint8\", np.uint8, 1)])\n",
      "/Users/jaydip/anaconda3/lib/python3.7/site-packages/tensorflow/python/framework/dtypes.py:528: FutureWarning: Passing (type, 1) or '1type' as a synonym of type is deprecated; in a future version of numpy, it will be understood as (type, (1,)) / '(1,)type'.\n",
      "  _np_qint16 = np.dtype([(\"qint16\", np.int16, 1)])\n",
      "/Users/jaydip/anaconda3/lib/python3.7/site-packages/tensorflow/python/framework/dtypes.py:529: FutureWarning: Passing (type, 1) or '1type' as a synonym of type is deprecated; in a future version of numpy, it will be understood as (type, (1,)) / '(1,)type'.\n",
      "  _np_quint16 = np.dtype([(\"quint16\", np.uint16, 1)])\n",
      "/Users/jaydip/anaconda3/lib/python3.7/site-packages/tensorflow/python/framework/dtypes.py:530: FutureWarning: Passing (type, 1) or '1type' as a synonym of type is deprecated; in a future version of numpy, it will be understood as (type, (1,)) / '(1,)type'.\n",
      "  _np_qint32 = np.dtype([(\"qint32\", np.int32, 1)])\n",
      "/Users/jaydip/anaconda3/lib/python3.7/site-packages/tensorflow/python/framework/dtypes.py:535: FutureWarning: Passing (type, 1) or '1type' as a synonym of type is deprecated; in a future version of numpy, it will be understood as (type, (1,)) / '(1,)type'.\n",
      "  np_resource = np.dtype([(\"resource\", np.ubyte, 1)])\n"
     ]
    }
   ],
   "source": [
    "from tensorflow.keras.utils import to_categorical\n",
    "\n",
    "y_cat_test = to_categorical(y_test)\n",
    "y_cat_train = to_categorical(y_train)"
   ]
  },
  {
   "cell_type": "code",
   "execution_count": 9,
   "metadata": {},
   "outputs": [
    {
     "name": "stderr",
     "output_type": "stream",
     "text": [
      "Using TensorFlow backend.\n"
     ]
    }
   ],
   "source": [
    "from tensorflow.keras.models import Sequential\n",
    "from tensorflow.keras.layers import Dense, Conv1D, MaxPool1D, Flatten, MaxPooling1D, BatchNormalization\n",
    "from tensorflow.keras.layers import Dropout, LSTM, Embedding\n",
    "from keras import regularizers\n",
    "from tensorflow.keras.callbacks import EarlyStopping\n",
    "from tensorflow.keras.optimizers import Adam"
   ]
  },
  {
   "cell_type": "code",
   "execution_count": 10,
   "metadata": {},
   "outputs": [
    {
     "name": "stdout",
     "output_type": "stream",
     "text": [
      "WARNING:tensorflow:From /Users/jaydip/anaconda3/lib/python3.7/site-packages/tensorflow/python/ops/resource_variable_ops.py:435: colocate_with (from tensorflow.python.framework.ops) is deprecated and will be removed in a future version.\n",
      "Instructions for updating:\n",
      "Colocations handled automatically by placer.\n",
      "WARNING:tensorflow:From /Users/jaydip/anaconda3/lib/python3.7/site-packages/tensorflow/python/keras/layers/core.py:143: calling dropout (from tensorflow.python.ops.nn_ops) with keep_prob is deprecated and will be removed in a future version.\n",
      "Instructions for updating:\n",
      "Please use `rate` instead of `keep_prob`. Rate should be set to `rate = 1 - keep_prob`.\n",
      "_________________________________________________________________\n",
      "Layer (type)                 Output Shape              Param #   \n",
      "=================================================================\n",
      "conv1d (Conv1D)              (None, 13, 256)           5376      \n",
      "_________________________________________________________________\n",
      "max_pooling1d (MaxPooling1D) (None, 13, 256)           0         \n",
      "_________________________________________________________________\n",
      "dropout (Dropout)            (None, 13, 256)           0         \n",
      "_________________________________________________________________\n",
      "conv1d_1 (Conv1D)            (None, 13, 256)           1310976   \n",
      "_________________________________________________________________\n",
      "max_pooling1d_1 (MaxPooling1 (None, 13, 256)           0         \n",
      "_________________________________________________________________\n",
      "dropout_1 (Dropout)          (None, 13, 256)           0         \n",
      "_________________________________________________________________\n",
      "conv1d_2 (Conv1D)            (None, 13, 256)           1310976   \n",
      "_________________________________________________________________\n",
      "max_pooling1d_2 (MaxPooling1 (None, 13, 256)           0         \n",
      "_________________________________________________________________\n",
      "dropout_2 (Dropout)          (None, 13, 256)           0         \n",
      "_________________________________________________________________\n",
      "lstm (LSTM)                  (None, 20)                22160     \n",
      "_________________________________________________________________\n",
      "dropout_3 (Dropout)          (None, 20)                0         \n",
      "_________________________________________________________________\n",
      "dense (Dense)                (None, 1024)              21504     \n",
      "_________________________________________________________________\n",
      "dropout_4 (Dropout)          (None, 1024)              0         \n",
      "_________________________________________________________________\n",
      "dense_1 (Dense)              (None, 1024)              1049600   \n",
      "_________________________________________________________________\n",
      "dropout_5 (Dropout)          (None, 1024)              0         \n",
      "_________________________________________________________________\n",
      "dense_2 (Dense)              (None, 1024)              1049600   \n",
      "_________________________________________________________________\n",
      "dropout_6 (Dropout)          (None, 1024)              0         \n",
      "_________________________________________________________________\n",
      "dense_3 (Dense)              (None, 1024)              1049600   \n",
      "_________________________________________________________________\n",
      "dropout_7 (Dropout)          (None, 1024)              0         \n",
      "_________________________________________________________________\n",
      "dense_4 (Dense)              (None, 2)                 2050      \n",
      "=================================================================\n",
      "Total params: 5,821,842\n",
      "Trainable params: 5,821,842\n",
      "Non-trainable params: 0\n",
      "_________________________________________________________________\n",
      "None\n"
     ]
    }
   ],
   "source": [
    "classifier = Sequential()\n",
    "\n",
    "classifier.add(Conv1D(256, 20, input_shape = (13,1), activation = 'relu', padding='same'))\n",
    "classifier.add(MaxPooling1D(pool_size = 1))\n",
    "classifier.add(Dropout(0.2))\n",
    "\n",
    "classifier.add(Conv1D(256, 20, activation = 'relu', padding='same', input_shape = (13,1)))\n",
    "classifier.add(MaxPooling1D(pool_size = 1))\n",
    "classifier.add(Dropout(0.2))\n",
    "\n",
    "classifier.add(Conv1D(256, 20, activation = 'relu', padding='same', input_shape = (13,1)))\n",
    "classifier.add(MaxPooling1D(pool_size = 1))\n",
    "classifier.add(Dropout(0.2))\n",
    "\n",
    "classifier.add(LSTM(20, activation = 'relu'))\n",
    "classifier.add(Dropout(0.2))\n",
    "\n",
    "classifier.add(Dense(activation = 'relu', units=1024))\n",
    "classifier.add(Dropout(0.3))\n",
    "\n",
    "classifier.add(Dense(activation = 'relu', units=1024))\n",
    "classifier.add(Dropout(0.3))\n",
    "\n",
    "classifier.add(Dense(activation = 'relu', units=1024))\n",
    "classifier.add(Dropout(0.3))\n",
    "\n",
    "classifier.add(Dense(activation = 'relu', units=1024))\n",
    "classifier.add(Dropout(0.3))\n",
    "\n",
    "classifier.add(Dense(activation = 'sigmoid', units=2))\n",
    "\n",
    "classifier.compile(optimizer = Adam(lr=0.00001), loss = 'categorical_crossentropy')\n",
    "print(classifier.summary())"
   ]
  },
  {
   "cell_type": "code",
   "execution_count": 11,
   "metadata": {},
   "outputs": [],
   "source": [
    "early_stop = EarlyStopping(monitor='val_loss', patience=5)"
   ]
  },
  {
   "cell_type": "code",
   "execution_count": 12,
   "metadata": {},
   "outputs": [
    {
     "name": "stdout",
     "output_type": "stream",
     "text": [
      "Train on 190 samples, validate on 22 samples\n",
      "WARNING:tensorflow:From /Users/jaydip/anaconda3/lib/python3.7/site-packages/tensorflow/python/ops/math_ops.py:3066: to_int32 (from tensorflow.python.ops.math_ops) is deprecated and will be removed in a future version.\n",
      "Instructions for updating:\n",
      "Use tf.cast instead.\n",
      "Epoch 1/500\n",
      "190/190 [==============================] - 4s 21ms/sample - loss: 0.6931 - val_loss: 0.6930\n",
      "Epoch 2/500\n",
      "190/190 [==============================] - 2s 9ms/sample - loss: 0.6931 - val_loss: 0.6929\n",
      "Epoch 3/500\n",
      "190/190 [==============================] - 2s 9ms/sample - loss: 0.6931 - val_loss: 0.6927\n",
      "Epoch 4/500\n",
      "190/190 [==============================] - 2s 9ms/sample - loss: 0.6930 - val_loss: 0.6926\n",
      "Epoch 5/500\n",
      "190/190 [==============================] - 2s 9ms/sample - loss: 0.6930 - val_loss: 0.6925\n",
      "Epoch 6/500\n",
      "190/190 [==============================] - 3s 14ms/sample - loss: 0.6929 - val_loss: 0.6922\n",
      "Epoch 7/500\n",
      "190/190 [==============================] - 2s 10ms/sample - loss: 0.6929 - val_loss: 0.6920\n",
      "Epoch 8/500\n",
      "190/190 [==============================] - 2s 13ms/sample - loss: 0.6928 - val_loss: 0.6917\n",
      "Epoch 9/500\n",
      "190/190 [==============================] - 2s 11ms/sample - loss: 0.6928 - val_loss: 0.6915\n",
      "Epoch 10/500\n",
      "190/190 [==============================] - 2s 9ms/sample - loss: 0.6926 - val_loss: 0.6911\n",
      "Epoch 11/500\n",
      "190/190 [==============================] - 2s 9ms/sample - loss: 0.6926 - val_loss: 0.6905\n",
      "Epoch 12/500\n",
      "190/190 [==============================] - 2s 9ms/sample - loss: 0.6924 - val_loss: 0.6898\n",
      "Epoch 13/500\n",
      "190/190 [==============================] - 2s 9ms/sample - loss: 0.6920 - val_loss: 0.6893\n",
      "Epoch 14/500\n",
      "190/190 [==============================] - 2s 10ms/sample - loss: 0.6916 - val_loss: 0.6882\n",
      "Epoch 15/500\n",
      "190/190 [==============================] - 2s 9ms/sample - loss: 0.6916 - val_loss: 0.6866\n",
      "Epoch 16/500\n",
      "190/190 [==============================] - 2s 9ms/sample - loss: 0.6908 - val_loss: 0.6851\n",
      "Epoch 17/500\n",
      "190/190 [==============================] - 2s 9ms/sample - loss: 0.6904 - val_loss: 0.6832\n",
      "Epoch 18/500\n",
      "190/190 [==============================] - 2s 10ms/sample - loss: 0.6895 - val_loss: 0.6817\n",
      "Epoch 19/500\n",
      "190/190 [==============================] - 2s 9ms/sample - loss: 0.6896 - val_loss: 0.6793\n",
      "Epoch 20/500\n",
      "190/190 [==============================] - 2s 9ms/sample - loss: 0.6883 - val_loss: 0.6749\n",
      "Epoch 21/500\n",
      "190/190 [==============================] - 2s 9ms/sample - loss: 0.6876 - val_loss: 0.6733\n",
      "Epoch 22/500\n",
      "190/190 [==============================] - 2s 9ms/sample - loss: 0.6847 - val_loss: 0.6699\n",
      "Epoch 23/500\n",
      "190/190 [==============================] - 2s 9ms/sample - loss: 0.6810 - val_loss: 0.6652\n",
      "Epoch 24/500\n",
      "190/190 [==============================] - 2s 9ms/sample - loss: 0.6801 - val_loss: 0.6570\n",
      "Epoch 25/500\n",
      "190/190 [==============================] - 2s 9ms/sample - loss: 0.6760 - val_loss: 0.6458\n",
      "Epoch 26/500\n",
      "190/190 [==============================] - 2s 10ms/sample - loss: 0.6712 - val_loss: 0.6385\n",
      "Epoch 27/500\n",
      "190/190 [==============================] - 2s 10ms/sample - loss: 0.6673 - val_loss: 0.6243\n",
      "Epoch 28/500\n",
      "190/190 [==============================] - 2s 10ms/sample - loss: 0.6629 - val_loss: 0.6147\n",
      "Epoch 29/500\n",
      "190/190 [==============================] - 2s 9ms/sample - loss: 0.6578 - val_loss: 0.6179\n",
      "Epoch 30/500\n",
      "190/190 [==============================] - 2s 10ms/sample - loss: 0.6503 - val_loss: 0.5889\n",
      "Epoch 31/500\n",
      "190/190 [==============================] - 2s 9ms/sample - loss: 0.6417 - val_loss: 0.5790\n",
      "Epoch 32/500\n",
      "190/190 [==============================] - 2s 10ms/sample - loss: 0.6371 - val_loss: 0.5568\n",
      "Epoch 33/500\n",
      "190/190 [==============================] - 2s 11ms/sample - loss: 0.6319 - val_loss: 0.5682\n",
      "Epoch 34/500\n",
      "190/190 [==============================] - 2s 9ms/sample - loss: 0.6330 - val_loss: 0.5336\n",
      "Epoch 35/500\n",
      "190/190 [==============================] - 2s 9ms/sample - loss: 0.6141 - val_loss: 0.5334\n",
      "Epoch 36/500\n",
      "190/190 [==============================] - 2s 9ms/sample - loss: 0.6081 - val_loss: 0.5163\n",
      "Epoch 37/500\n",
      "190/190 [==============================] - 2s 9ms/sample - loss: 0.6176 - val_loss: 0.4965\n",
      "Epoch 38/500\n",
      "190/190 [==============================] - 2s 10ms/sample - loss: 0.6100 - val_loss: 0.5086\n",
      "Epoch 39/500\n",
      "190/190 [==============================] - 2s 10ms/sample - loss: 0.6034 - val_loss: 0.4742\n",
      "Epoch 40/500\n",
      "190/190 [==============================] - 2s 10ms/sample - loss: 0.5915 - val_loss: 0.4768\n",
      "Epoch 41/500\n",
      "190/190 [==============================] - 2s 10ms/sample - loss: 0.5902 - val_loss: 0.4807\n",
      "Epoch 42/500\n",
      "190/190 [==============================] - 2s 10ms/sample - loss: 0.5810 - val_loss: 0.4440\n",
      "Epoch 43/500\n",
      "190/190 [==============================] - 2s 10ms/sample - loss: 0.5789 - val_loss: 0.4577\n",
      "Epoch 44/500\n",
      "190/190 [==============================] - 2s 10ms/sample - loss: 0.5777 - val_loss: 0.4617\n",
      "Epoch 45/500\n",
      "190/190 [==============================] - 2s 10ms/sample - loss: 0.5689 - val_loss: 0.4320\n",
      "Epoch 46/500\n",
      "190/190 [==============================] - 2s 10ms/sample - loss: 0.5672 - val_loss: 0.4298\n",
      "Epoch 47/500\n",
      "190/190 [==============================] - 2s 10ms/sample - loss: 0.5649 - val_loss: 0.4350\n",
      "Epoch 48/500\n",
      "190/190 [==============================] - 2s 10ms/sample - loss: 0.5565 - val_loss: 0.3963\n",
      "Epoch 49/500\n",
      "190/190 [==============================] - 2s 11ms/sample - loss: 0.5476 - val_loss: 0.4319\n",
      "Epoch 50/500\n",
      "190/190 [==============================] - 2s 10ms/sample - loss: 0.5493 - val_loss: 0.4268\n",
      "Epoch 51/500\n",
      "190/190 [==============================] - 2s 10ms/sample - loss: 0.5382 - val_loss: 0.4000\n",
      "Epoch 52/500\n",
      "190/190 [==============================] - 2s 12ms/sample - loss: 0.5437 - val_loss: 0.3968\n",
      "Epoch 53/500\n",
      "190/190 [==============================] - 2s 10ms/sample - loss: 0.5530 - val_loss: 0.4298\n"
     ]
    },
    {
     "data": {
      "text/plain": [
       "<tensorflow.python.keras.callbacks.History at 0x1a30f5fb00>"
      ]
     },
     "execution_count": 12,
     "metadata": {},
     "output_type": "execute_result"
    }
   ],
   "source": [
    "classifier.fit(X_train, y_cat_train, epochs=500, batch_size=20, validation_split = 0.1,callbacks=[early_stop])"
   ]
  },
  {
   "cell_type": "code",
   "execution_count": 13,
   "metadata": {},
   "outputs": [
    {
     "name": "stdout",
     "output_type": "stream",
     "text": [
      "              precision    recall  f1-score   support\n",
      "\n",
      "           0       0.87      0.75      0.80        44\n",
      "           1       0.79      0.89      0.84        47\n",
      "\n",
      "    accuracy                           0.82        91\n",
      "   macro avg       0.83      0.82      0.82        91\n",
      "weighted avg       0.83      0.82      0.82        91\n",
      "\n",
      "[[33 11]\n",
      " [ 5 42]]\n"
     ]
    }
   ],
   "source": [
    "from sklearn.metrics import classification_report,confusion_matrix\n",
    "from sklearn.metrics import accuracy_score\n",
    "\n",
    "nn_pred = classifier.predict_classes(X_test)\n",
    "print(classification_report(y_test,nn_pred))\n",
    "print(confusion_matrix(y_test,nn_pred))"
   ]
  }
 ],
 "metadata": {
  "kernelspec": {
   "display_name": "Python 3",
   "language": "python",
   "name": "python3"
  },
  "language_info": {
   "codemirror_mode": {
    "name": "ipython",
    "version": 3
   },
   "file_extension": ".py",
   "mimetype": "text/x-python",
   "name": "python",
   "nbconvert_exporter": "python",
   "pygments_lexer": "ipython3",
   "version": "3.7.3"
  }
 },
 "nbformat": 4,
 "nbformat_minor": 2
}
